{
 "cells": [
  {
   "cell_type": "markdown",
   "metadata": {
    "id": "8OM9YH_w6yXD"
   },
   "source": [
    "# Neural network from scratch.\n",
    "\n",
    "Based on YSDA Deep Learning course materials.\n",
    "\n",
    "https://github.com/yandexdataschool/Practical_DL/blob/spring2019/homework01/homework_modules.ipynb"
   ]
  },
  {
   "cell_type": "markdown",
   "metadata": {
    "id": "QkOjLyq46yXK"
   },
   "source": [
    "We will implement most common layers using `numpy` for matrix operations. \n",
    "\n",
    "The file `modules.py` contains the abstract classes for **module**, **criterion** and **sequential** model class.\n",
    "\n",
    "**Module** is an abstract class which defines the fundamental methods required for training a neural network.\n",
    "\n",
    "**Criterion** class implements a container which can be used to score the models answers. \n",
    "\n",
    "**Sequential** class implements a container which processes `input` data sequentially. \n"
   ]
  },
  {
   "cell_type": "markdown",
   "metadata": {
    "id": "8c5OjyPn6yXK"
   },
   "source": [
    "#### Tips and tricks\n",
    "Original `numpy` operation are preferable to the overloaded ones (`+`, `*`, `-`, etc. vs `np.add`, `np.multiply`, `np.substract`). They are less prone to excess memory usage and seem unified with tensor frameworks.\n",
    "\n",
    "*Example:*\n",
    "\n",
    "```\n",
    "a = np.zeros_like(arr1)\n",
    "\n",
    "a = arr1 + arr2 #  bad, we reallocate memory for the result of + operation\n",
    "\n",
    "a = np.zeros_like(arr1)\n",
    "\n",
    "np.add(arr1, arr2, out=a) #  good, we use same allocated memory, no need to call gc\n",
    "```\n",
    "\n",
    "But I won't follow that advice ;)"
   ]
  },
  {
   "cell_type": "code",
   "execution_count": 1,
   "metadata": {
    "id": "-cNJXFsp6yXL"
   },
   "outputs": [],
   "source": [
    "%matplotlib inline\n",
    "from time import time, sleep\n",
    "import numpy as np\n",
    "import matplotlib.pyplot as plt\n",
    "from IPython import display\n"
   ]
  },
  {
   "cell_type": "code",
   "execution_count": 2,
   "metadata": {
    "colab": {
     "base_uri": "https://localhost:8080/"
    },
    "id": "jY5f8KaAdlTx",
    "outputId": "b04b4d4a-86cb-4384-d2ce-adb31168714e"
   },
   "outputs": [],
   "source": [
    "# ! wget https://raw.githubusercontent.com/girafe-ai/ml-mipt/basic_s21/week0_08_intro_to_DL/modules.py\n",
    "\n",
    "from modules import Module, Sequential, Criterion"
   ]
  },
  {
   "cell_type": "markdown",
   "metadata": {
    "id": "f2shlktH6yXL"
   },
   "source": [
    "## Impelementing main layers\n",
    "\n",
    "\n",
    "Let's try to implement some layers in numpy. \n",
    "Today we are going to discuss only the most common ones.\n",
    "\n",
    "https://en.wikipedia.org/wiki/Matrix_calculus\n",
    "\n"
   ]
  },
  {
   "cell_type": "markdown",
   "metadata": {
    "id": "yaLmLd-7Wfs8"
   },
   "source": [
    "[Post about einsum](https://habr.com/ru/post/544498/)"
   ]
  },
  {
   "cell_type": "markdown",
   "metadata": {
    "id": "D5FB1rBB6yXM"
   },
   "source": [
    "### 1. Linear transform layer\n",
    "Also known as dense layer, fully-connected layer, FC-layer, InnerProductLayer (in caffe), affine transform\n",
    "- input:   **`batch_size x n_in`**\n",
    "- output  **`batch_size x n_out`**"
   ]
  },
  {
   "cell_type": "markdown",
   "metadata": {
    "id": "f4Abm9jleWzI"
   },
   "source": [
    "[Backpropagation for a Linear Layer handout](http://cs231n.stanford.edu/handouts/linear-backprop.pdf)"
   ]
  },
  {
   "cell_type": "code",
   "execution_count": 3,
   "metadata": {},
   "outputs": [],
   "source": [
    "a = np.ones((2,4))"
   ]
  },
  {
   "cell_type": "code",
   "execution_count": 4,
   "metadata": {},
   "outputs": [],
   "source": [
    "b = np.zeros((4, 3))"
   ]
  },
  {
   "cell_type": "code",
   "execution_count": 22,
   "metadata": {},
   "outputs": [],
   "source": [
    "c = np.zeros((2, 3))"
   ]
  },
  {
   "cell_type": "code",
   "execution_count": 23,
   "metadata": {},
   "outputs": [
    {
     "data": {
      "text/plain": [
       "array([[0., 0., 0.],\n",
       "       [0., 0., 0.]])"
      ]
     },
     "execution_count": 23,
     "metadata": {},
     "output_type": "execute_result"
    }
   ],
   "source": [
    "np.matmul(a, b, out=c)"
   ]
  },
  {
   "cell_type": "code",
   "execution_count": 24,
   "metadata": {},
   "outputs": [
    {
     "data": {
      "text/plain": [
       "True"
      ]
     },
     "execution_count": 24,
     "metadata": {},
     "output_type": "execute_result"
    }
   ],
   "source": [
    "np.allclose(a @ b, np.matmul(a, b))"
   ]
  },
  {
   "cell_type": "code",
   "execution_count": 25,
   "metadata": {
    "id": "w1K9RnIq6yXM"
   },
   "outputs": [],
   "source": [
    "class Linear(Module):\n",
    "    \"\"\"\n",
    "    A module which applies a linear transformation \n",
    "    A common name is fully-connected layer, InnerProductLayer in caffe. \n",
    "    \n",
    "    The module should work with 2D input of shape (n_samples, n_feature).\n",
    "    \"\"\"\n",
    "    def __init__(self, n_in, n_out):\n",
    "        super(Linear, self).__init__()\n",
    "       \n",
    "        # This is a nice initialization\n",
    "        stdv = 1./np.sqrt(n_in)\n",
    "        self.W = np.random.uniform(-stdv, stdv, size = (n_in, n_out))\n",
    "        self.b = np.random.uniform(-stdv, stdv, size = n_out)\n",
    "        \n",
    "        self.gradW = np.zeros_like(self.W)\n",
    "        self.gradb = np.zeros_like(self.b)\n",
    "        \n",
    "    def updateOutput(self, input):\n",
    "        '''\n",
    "        input: (batch_size x n_in)\n",
    "        '''\n",
    "        ################################################\n",
    "        # your code here\n",
    "        self.output = np.matmul(input, self.W) + self.b[None, :]\n",
    "        \n",
    "        ################################################\n",
    "        return self.output\n",
    "    \n",
    "    def updateGradInput(self, input, gradOutput):\n",
    "        ################################################\n",
    "        # your code here \n",
    "        \n",
    "        self.gradInput = np.matmul(gradOutput, self.W.T)\n",
    "        # or \n",
    "#         self.gradInput = np.einsum(\"bj->ij,bi\", gradOutput, self.W)\n",
    "        ################################################\n",
    "        return self.gradInput\n",
    "    \n",
    "    def accGradParameters(self, input, gradOutput):\n",
    "        ################################################\n",
    "        # your code here \n",
    "        self.gradW += np.matmul(input.T, gradOutput)\n",
    "        self.gradb += np.sum(gradOutput, axis=0)\n",
    "        ################################################\n",
    "            \n",
    "    def zeroGradParameters(self):\n",
    "        self.gradW.fill(0)\n",
    "        self.gradb.fill(0)\n",
    "        \n",
    "    def getParameters(self):\n",
    "        return [self.W, self.b]\n",
    "    \n",
    "    def getGradParameters(self):\n",
    "        return [self.gradW, self.gradb]\n",
    "    \n",
    "    def __repr__(self):\n",
    "        s = self.W.shape\n",
    "        q = 'Linear %d -> %d' %(s[1],s[0])\n",
    "        return q"
   ]
  },
  {
   "cell_type": "markdown",
   "metadata": {
    "id": "7RVaSCBkfC8d"
   },
   "source": [
    "### 2. SoftMax\n",
    "- input:   **`batch_size x n_feats`**\n",
    "- output: **`batch_size x n_feats`**\n",
    "\n",
    "$\\text{softmax}(x)_i = \\frac{\\exp x_i} {\\sum_j \\exp x_j}$\n",
    "\n",
    "Recall that $\\text{softmax}(x) == \\text{softmax}(x - \\text{const})$. It makes possible to avoid computing exp() from large argument.\n",
    "\n",
    "[Notes on softmax](https://deepnotes.io/softmax-crossentropy)"
   ]
  },
  {
   "cell_type": "code",
   "execution_count": 26,
   "metadata": {
    "colab": {
     "base_uri": "https://localhost:8080/"
    },
    "id": "n8Zy921LURI_",
    "outputId": "fd939e08-7740-49ce-fd8f-282addbd389c"
   },
   "outputs": [
    {
     "data": {
      "text/plain": [
       "array([[[ 0,  0,  0],\n",
       "        [ 0,  1,  2],\n",
       "        [ 0,  2,  4]],\n",
       "\n",
       "       [[ 9, 12, 15],\n",
       "        [12, 16, 20],\n",
       "        [15, 20, 25]]])"
      ]
     },
     "execution_count": 26,
     "metadata": {},
     "output_type": "execute_result"
    }
   ],
   "source": [
    "# simple einsum example \n",
    "p = np.arange(6).reshape((2, 3))\n",
    "c = np.einsum('bi,bj->bij', p, p)\n",
    "c"
   ]
  },
  {
   "cell_type": "code",
   "execution_count": 27,
   "metadata": {},
   "outputs": [
    {
     "data": {
      "text/plain": [
       "array([[1., 0., 0.],\n",
       "       [0., 1., 0.],\n",
       "       [0., 0., 1.]])"
      ]
     },
     "execution_count": 27,
     "metadata": {},
     "output_type": "execute_result"
    }
   ],
   "source": [
    "np.eye(3,3)"
   ]
  },
  {
   "cell_type": "code",
   "execution_count": 45,
   "metadata": {
    "id": "-kih1-sC6yXN"
   },
   "outputs": [],
   "source": [
    "class SoftMax(Module):\n",
    "    def __init__(self):\n",
    "         super(SoftMax, self).__init__()\n",
    "    \n",
    "    def updateOutput(self, input):\n",
    "        ################################################\n",
    "        # start with normalization for numerical stability\n",
    "        # your code here \n",
    "        normalized_input = input - np.max(input, axis=1, keepdims=True)\n",
    "        self.output = np.exp(normalized_input)\n",
    "        self.output /= np.sum(self.output, axis=1, keepdims=True)\n",
    "        ################################################\n",
    "        return self.output\n",
    "    \n",
    "    def updateGradInput(self, input, gradOutput):\n",
    "        ################################################\n",
    "        # First we create for each example feature vector, it's outer product with itself\n",
    "        # ( p1^2  p1*p2  p1*p3 .... )\n",
    "        # ( p2*p1 p2^2   p2*p3 .... )\n",
    "        # ( ...                     )\n",
    "        # your code here \n",
    "        \n",
    "        local_repr_1 = np.einsum('bi,bj->bij', self.output, self.output)\n",
    "        # Second we need to create an (n_feats, n_feats) identity of the feature vector\n",
    "        # ( p1  0  0  ...  )\n",
    "        # ( 0   p2 0  ...  )\n",
    "        # ( ...            )\n",
    "        # your code here \n",
    "        local_repr_2 = np.einsum(\n",
    "            'bi,ij->bij',\n",
    "            self.output,\n",
    "            np.eye(input.shape[1], input.shape[1])\n",
    "        )\n",
    "        # Then we need to subtract the first tensor from the second\n",
    "        # ( p1 - p1^2   -p1*p2   -p1*p3  ... )\n",
    "        # ( -p1*p2     p2 - p2^2   -p2*p3 ...)\n",
    "        # ( ...                              )\n",
    "        # your code here \n",
    "        local_repr_3 = local_repr_2 - local_repr_1\n",
    "        \n",
    "        self.gradInput = np.einsum('bij,bi->bj', local_repr_3, gradOutput)\n",
    "        ################################################\n",
    "        return self.gradInput\n",
    "    \n",
    "    def __repr__(self):\n",
    "        return \"SoftMax\""
   ]
  },
  {
   "cell_type": "markdown",
   "metadata": {
    "id": "sgo9jxXQPGRh"
   },
   "source": [
    "### 3. Negative LogLikelihood criterion (numerically unstable)\n",
    "[multiclass log loss](http://scikit-learn.org/stable/modules/model_evaluation.html#log-loss). Remember that targets are one-hot encoded. Note, that criterions are the only places, where you divide by batch size. Also there is a small hack with adding small number to probabilities to avoid computing log(0).\n",
    "- input:   **`batch_size x n_feats`** - probabilities\n",
    "- target: **`batch_size x n_feats`** - one-hot representation of ground truth\n",
    "- output: **scalar**## \n",
    "\n"
   ]
  },
  {
   "cell_type": "code",
   "execution_count": 62,
   "metadata": {
    "id": "Ma_X5zSGXWKb"
   },
   "outputs": [],
   "source": [
    "class ClassNLLCriterionUnstable(Criterion):\n",
    "    EPS = 1e-15\n",
    "    def __init__(self):\n",
    "        a = super(ClassNLLCriterionUnstable, self)\n",
    "        super(ClassNLLCriterionUnstable, self).__init__()\n",
    "        \n",
    "    def updateOutput(self, input, target):   \n",
    "        ################################################\n",
    "        # Use clipping trick to avoid numerical errors\n",
    "        # your code here \n",
    "        normalized_input = np.clip(input, self.EPS, 1-self.EPS)\n",
    "        self.output = - np.sum(target * np.log(normalized_input)) / input.shape[0]\n",
    "        ################################################\n",
    "        return self.output\n",
    "\n",
    "    def updateGradInput(self, input, target):\n",
    "        ################################################\n",
    "        # Use clipping trick to avoid numerical errors\n",
    "        # your code here \n",
    "        normalized_input = np.clip(input, self.EPS, 1-self.EPS)\n",
    "        self.gradInput = - (target / normalized_input) / input.shape[0]\n",
    "\n",
    "\n",
    "        ################################################\n",
    "        return self.gradInput\n",
    "    \n",
    "    def __repr__(self):\n",
    "        return \"ClassNLLCriterionUnstable\""
   ]
  },
  {
   "cell_type": "code",
   "execution_count": 54,
   "metadata": {
    "id": "dUvohjyp6yXP"
   },
   "outputs": [],
   "source": [
    "def simple_sgd(variables, gradients, config, state):  \n",
    "    # 'variables' and 'gradients' have complex structure, accumulated_grads will be stored in a simpler one\n",
    "    state.setdefault('accumulated_grads', {})\n",
    "    \n",
    "    var_index = 0 \n",
    "    for current_layer_vars, current_layer_grads in zip(variables, gradients): \n",
    "        for current_var, current_grad in zip(current_layer_vars, current_layer_grads):\n",
    "            \n",
    "            current_var -= config['learning_rate'] * current_grad\n",
    "            var_index += 1     "
   ]
  },
  {
   "cell_type": "markdown",
   "metadata": {
    "id": "h2TE4a3-6yXP"
   },
   "source": [
    "## Toy training example"
   ]
  },
  {
   "cell_type": "markdown",
   "metadata": {
    "id": "9ewrE7tb6yXP"
   },
   "source": [
    "Use this example to debug your code, just logistic regression. You do not need to change anything here. This code is provided for you to test the layers. "
   ]
  },
  {
   "cell_type": "code",
   "execution_count": 55,
   "metadata": {
    "colab": {
     "base_uri": "https://localhost:8080/",
     "height": 283
    },
    "id": "JlD2ypxA6yXP",
    "outputId": "9daae47c-a463-4eec-c87e-1c8cbe478748",
    "scrolled": false
   },
   "outputs": [
    {
     "data": {
      "text/plain": [
       "<matplotlib.collections.PathCollection at 0x7fbb843fdcd0>"
      ]
     },
     "execution_count": 55,
     "metadata": {},
     "output_type": "execute_result"
    },
    {
     "data": {
      "image/png": "[encoded data removed]",
      "text/plain": [
       "<Figure size 432x288 with 1 Axes>"
      ]
     },
     "metadata": {
      "needs_background": "light"
     },
     "output_type": "display_data"
    }
   ],
   "source": [
    "# Generate some data\n",
    "N = 500\n",
    "\n",
    "X1 = np.random.randn(N,2) + np.array([2,2])\n",
    "X2 = np.random.randn(N,2) + np.array([-2,-2])\n",
    "\n",
    "Y = np.concatenate([np.ones(N),np.zeros(N)])[:,None]\n",
    "Y = np.hstack([Y, 1-Y])\n",
    "\n",
    "X = np.vstack([X1,X2])\n",
    "plt.scatter(X[:,0],X[:,1], c = Y[:,0], edgecolors= 'none')"
   ]
  },
  {
   "cell_type": "markdown",
   "metadata": {
    "id": "6YA59tRe6yXQ"
   },
   "source": [
    "Define a **logistic regression** for debugging. "
   ]
  },
  {
   "cell_type": "code",
   "execution_count": 56,
   "metadata": {
    "colab": {
     "base_uri": "https://localhost:8080/"
    },
    "id": "wBkFEbVA6yXR",
    "outputId": "d8871bf6-4514-49b7-fbb5-6241d8448c14"
   },
   "outputs": [
    {
     "name": "stdout",
     "output_type": "stream",
     "text": [
      "Linear 2 -> 2\n",
      "SoftMax\n",
      "\n"
     ]
    }
   ],
   "source": [
    "net = Sequential()\n",
    "net.add(Linear(2, 2))\n",
    "\n",
    "net.add(SoftMax())\n",
    "criterion = ClassNLLCriterionUnstable()\n",
    "\n",
    "print(net)"
   ]
  },
  {
   "cell_type": "markdown",
   "metadata": {
    "id": "8TmMYZrF6yXR"
   },
   "source": [
    "Start with batch_size = 1000 to make sure every step lowers the loss, then try stochastic version."
   ]
  },
  {
   "cell_type": "code",
   "execution_count": 57,
   "metadata": {
    "id": "_eG4lPvr6yXR"
   },
   "outputs": [],
   "source": [
    "# Iptimizer params\n",
    "optimizer_config = {'learning_rate' : 1e-1}\n",
    "optimizer_state = {}\n",
    "\n",
    "# Looping params\n",
    "n_epoch = 20\n",
    "batch_size = 128"
   ]
  },
  {
   "cell_type": "code",
   "execution_count": 58,
   "metadata": {
    "id": "0wfDdxLc6yXR"
   },
   "outputs": [],
   "source": [
    "# batch generator\n",
    "def get_batches(dataset, batch_size):\n",
    "    X, Y = dataset\n",
    "    n_samples = X.shape[0]\n",
    "        \n",
    "    # Shuffle at the start of epoch\n",
    "    indices = np.arange(n_samples)\n",
    "    np.random.shuffle(indices)\n",
    "    \n",
    "    for start in range(0, n_samples, batch_size):\n",
    "        end = min(start + batch_size, n_samples)\n",
    "        \n",
    "        batch_idx = indices[start:end]\n",
    "    \n",
    "        yield X[batch_idx], Y[batch_idx]"
   ]
  },
  {
   "cell_type": "markdown",
   "metadata": {
    "id": "z_ro0Qqd6yXS"
   },
   "source": [
    "### Train"
   ]
  },
  {
   "cell_type": "code",
   "execution_count": 59,
   "metadata": {},
   "outputs": [],
   "source": [
    "x_batch, y_batch = next(get_batches((X, Y), batch_size))\n",
    "predictions = net.forward(x_batch)\n",
    "loss = criterion.forward(predictions, y_batch)"
   ]
  },
  {
   "cell_type": "code",
   "execution_count": 60,
   "metadata": {},
   "outputs": [
    {
     "data": {
      "text/plain": [
       "0.8092814110132333"
      ]
     },
     "execution_count": 60,
     "metadata": {},
     "output_type": "execute_result"
    }
   ],
   "source": [
    "loss"
   ]
  },
  {
   "cell_type": "markdown",
   "metadata": {
    "id": "7kjj3f5Q6yXS"
   },
   "source": [
    "Basic training loop. Examine it."
   ]
  },
  {
   "cell_type": "code",
   "execution_count": 61,
   "metadata": {
    "colab": {
     "base_uri": "https://localhost:8080/",
     "height": 422
    },
    "id": "uHr99fks6yXS",
    "outputId": "7009fc8b-6dc8-469b-f6a2-07ad5200401f",
    "scrolled": false
   },
   "outputs": [
    {
     "data": {
      "image/png": "[encoded data removed]",
      "text/plain": [
       "<Figure size 576x432 with 1 Axes>"
      ]
     },
     "metadata": {
      "needs_background": "light"
     },
     "output_type": "display_data"
    },
    {
     "name": "stdout",
     "output_type": "stream",
     "text": [
      "Current loss: 0.027075\n"
     ]
    }
   ],
   "source": [
    "loss_history = []\n",
    "\n",
    "for i in range(n_epoch):\n",
    "    for x_batch, y_batch in get_batches((X, Y), batch_size):\n",
    "        \n",
    "        net.zeroGradParameters()\n",
    "        \n",
    "        # Forward\n",
    "        predictions = net.forward(x_batch)\n",
    "        loss = criterion.forward(predictions, y_batch)\n",
    "    \n",
    "        # Backward\n",
    "        dp = criterion.backward(predictions, y_batch)\n",
    "        net.backward(x_batch, dp)\n",
    "        \n",
    "        # Update weights\n",
    "        simple_sgd(net.getParameters(), \n",
    "                   net.getGradParameters(), \n",
    "                   optimizer_config,\n",
    "                   optimizer_state)      \n",
    "        \n",
    "        loss_history.append(loss)\n",
    "\n",
    "    # Visualize\n",
    "    display.clear_output(wait=True)\n",
    "    plt.figure(figsize=(8, 6))\n",
    "        \n",
    "    plt.title(\"Training loss\")\n",
    "    plt.xlabel(\"#iteration\")\n",
    "    plt.ylabel(\"loss\")\n",
    "    plt.plot(loss_history, 'b')\n",
    "    plt.show()\n",
    "    \n",
    "    print('Current loss: %f' % loss)    "
   ]
  },
  {
   "cell_type": "code",
   "execution_count": 63,
   "metadata": {},
   "outputs": [
    {
     "data": {
      "text/plain": [
       "[0.8263067147180296,\n",
       " 0.4266798692322169,\n",
       " 0.27781417260377106,\n",
       " 0.22036100934788097,\n",
       " 0.18196331051054362,\n",
       " 0.1508983223874354,\n",
       " 0.13852496326019034,\n",
       " 0.11040321743700503,\n",
       " 0.1021440240971906,\n",
       " 0.09762641783664722,\n",
       " 0.10259566219682933,\n",
       " 0.0867981584907597,\n",
       " 0.08969328594125589,\n",
       " 0.0728999740688871,\n",
       " 0.07529870934363972,\n",
       " 0.06697693682405284,\n",
       " 0.06619730810084312,\n",
       " 0.06527543987215076,\n",
       " 0.05824865516767566,\n",
       " 0.058752246755885335,\n",
       " 0.059039041734104854,\n",
       " 0.05681866450042983,\n",
       " 0.06635078410064416,\n",
       " 0.042595801817816886,\n",
       " 0.05177207133904113,\n",
       " 0.0633008645815048,\n",
       " 0.05462903568533591,\n",
       " 0.04657139931099447,\n",
       " 0.035587030530464456,\n",
       " 0.04439454539140926,\n",
       " 0.043251800169170365,\n",
       " 0.03512439094608498,\n",
       " 0.044406558147317775,\n",
       " 0.046299789748356635,\n",
       " 0.03836073794884527,\n",
       " 0.033262304217434285,\n",
       " 0.041718446615353774,\n",
       " 0.033995335222872965,\n",
       " 0.03497392481173866,\n",
       " 0.0470783761201251,\n",
       " 0.033025581113895565,\n",
       " 0.02805625470223964,\n",
       " 0.027148574440406924,\n",
       " 0.04988480171639173,\n",
       " 0.04701733744521662,\n",
       " 0.03070252766187602,\n",
       " 0.028689144918354642,\n",
       " 0.03581136664000418,\n",
       " 0.035639620883146525,\n",
       " 0.03031980255121496,\n",
       " 0.023853222863966895,\n",
       " 0.02955199414804835,\n",
       " 0.029498892276442673,\n",
       " 0.03905913983855244,\n",
       " 0.0321003958179554,\n",
       " 0.0325156061666072,\n",
       " 0.028476062149484352,\n",
       " 0.03741372236340537,\n",
       " 0.025645910916221353,\n",
       " 0.03922440293576343,\n",
       " 0.0179764498140293,\n",
       " 0.03750263092189866,\n",
       " 0.017465587070556628,\n",
       " 0.02719577534597242,\n",
       " 0.028977552815051252,\n",
       " 0.02026739953746099,\n",
       " 0.019905949511019268,\n",
       " 0.02955661012830376,\n",
       " 0.03267381619628219,\n",
       " 0.021640496224197156,\n",
       " 0.026594943107451068,\n",
       " 0.036949685059517234,\n",
       " 0.03367788973828727,\n",
       " 0.02377291918743863,\n",
       " 0.019111960172832666,\n",
       " 0.022152629822787935,\n",
       " 0.03246768243810859,\n",
       " 0.03321385418256935,\n",
       " 0.01750940230589575,\n",
       " 0.018014061977417537,\n",
       " 0.015136800802335279,\n",
       " 0.027397623325588663,\n",
       " 0.015318934117837364,\n",
       " 0.027817710563790836,\n",
       " 0.02563782880503541,\n",
       " 0.022203694252241828,\n",
       " 0.029363340561176912,\n",
       " 0.028035349504387654,\n",
       " 0.024244685093889173,\n",
       " 0.012865540289502844,\n",
       " 0.024327827219869928,\n",
       " 0.016561822337704764,\n",
       " 0.030927478638228246,\n",
       " 0.025097809914508468,\n",
       " 0.024034172522159038,\n",
       " 0.022694786338269542,\n",
       " 0.016609069994651324,\n",
       " 0.019469667962096905,\n",
       " 0.014293662135390222,\n",
       " 0.025805622139011976,\n",
       " 0.020963581430050095,\n",
       " 0.0227158656165378,\n",
       " 0.03205831132591332,\n",
       " 0.020535169881872636,\n",
       " 0.029060402707604897,\n",
       " 0.01447072019810856,\n",
       " 0.029388038869040012,\n",
       " 0.01975471290615848,\n",
       " 0.014847549207452185,\n",
       " 0.020526364438055538,\n",
       " 0.015385594727357545,\n",
       " 0.022571286173088283,\n",
       " 0.014322638769233838,\n",
       " 0.01546564058532026,\n",
       " 0.029813858131647948,\n",
       " 0.014087025991177692,\n",
       " 0.026242464926961907,\n",
       " 0.01853509233296876,\n",
       " 0.01445003574724188,\n",
       " 0.028157451419032482,\n",
       " 0.023641836292984972,\n",
       " 0.022051096075045493,\n",
       " 0.03635226222612217,\n",
       " 0.016268646093734632,\n",
       " 0.014454185779941748,\n",
       " 0.014251710412932671,\n",
       " 0.01606729819191799,\n",
       " 0.009109355219018705,\n",
       " 0.028074166956707933,\n",
       " 0.013595420915264986,\n",
       " 0.032589823780913754,\n",
       " 0.010598165204689109,\n",
       " 0.019269193552592608,\n",
       " 0.017852782108362,\n",
       " 0.016451805137996163,\n",
       " 0.009018056715738378,\n",
       " 0.01700013441102755,\n",
       " 0.012042234672809758,\n",
       " 0.01961938517653676,\n",
       " 0.03416617285837402,\n",
       " 0.011128452856446525,\n",
       " 0.011713350151299113,\n",
       " 0.02651441487484509,\n",
       " 0.011482593888575171,\n",
       " 0.016166381288333274,\n",
       " 0.014023669570833223,\n",
       " 0.01517481378250881,\n",
       " 0.029334812429168404,\n",
       " 0.011132775998601928,\n",
       " 0.019652416809785418,\n",
       " 0.018594872134698424,\n",
       " 0.016737247336460658,\n",
       " 0.01666078939563169,\n",
       " 0.011835244473341878,\n",
       " 0.015532455712464307,\n",
       " 0.020716472983379322,\n",
       " 0.016922205916903493,\n",
       " 0.010302790500719871,\n",
       " 0.02017230775426687,\n",
       " 0.027074881841970752]"
      ]
     },
     "execution_count": 63,
     "metadata": {},
     "output_type": "execute_result"
    }
   ],
   "source": [
    "loss_history"
   ]
  },
  {
   "cell_type": "code",
   "execution_count": null,
   "metadata": {},
   "outputs": [],
   "source": []
  }
 ],
 "metadata": {
  "colab": {
   "collapsed_sections": [],
   "name": "week08_nn_from_scratch--train.ipynb",
   "provenance": []
  },
  "kernelspec": {
   "display_name": "Python 3",
   "language": "python",
   "name": "python3"
  },
  "language_info": {
   "codemirror_mode": {
    "name": "ipython",
    "version": 3
   },
   "file_extension": ".py",
   "mimetype": "text/x-python",
   "name": "python",
   "nbconvert_exporter": "python",
   "pygments_lexer": "ipython3",
   "version": "3.7.6"
  }
 },
 "nbformat": 4,
 "nbformat_minor": 1
}
